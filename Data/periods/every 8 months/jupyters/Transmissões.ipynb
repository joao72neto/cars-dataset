{
 "cells": [
  {
   "cell_type": "markdown",
   "id": "444704a2-1ceb-4dd0-a490-5c372d51fd48",
   "metadata": {},
   "source": [
    "## Criando a tabela dos vendedores"
   ]
  },
  {
   "cell_type": "code",
   "execution_count": 13,
   "id": "7dac1813-929e-4fc7-85ed-b3c07904deb4",
   "metadata": {},
   "outputs": [],
   "source": [
    "import pandas as pd"
   ]
  },
  {
   "cell_type": "code",
   "execution_count": 18,
   "id": "bfb674b4-2928-418f-9fb5-a4f29a012e7f",
   "metadata": {},
   "outputs": [],
   "source": [
    "transmissao = pd.read_csv(\"../car_prices_1p_2014.csv\", usecols=[\"transmission\"])"
   ]
  },
  {
   "cell_type": "code",
   "execution_count": 23,
   "id": "a3112261-0e60-4645-94bd-9b7ee4b63520",
   "metadata": {},
   "outputs": [],
   "source": [
    "transmissao = transmissao.drop_duplicates()"
   ]
  },
  {
   "cell_type": "code",
   "execution_count": 24,
   "id": "8c8ea8c7-f1fb-42e8-beed-5861708a83f1",
   "metadata": {},
   "outputs": [],
   "source": [
    "transmissao[\"trm_id\"] = range(1 , len(transmissao) + 1)"
   ]
  },
  {
   "cell_type": "code",
   "execution_count": 26,
   "id": "0d854ad1-79d3-4e65-a3a5-be8de0bd68bc",
   "metadata": {},
   "outputs": [],
   "source": [
    "transmissao = transmissao[[\"trm_id\", \"transmission\"]]"
   ]
  },
  {
   "cell_type": "code",
   "execution_count": 27,
   "id": "770fa890-f983-4d32-bba5-0bd6e9be7a9f",
   "metadata": {},
   "outputs": [
    {
     "data": {
      "text/html": [
       "<div>\n",
       "<style scoped>\n",
       "    .dataframe tbody tr th:only-of-type {\n",
       "        vertical-align: middle;\n",
       "    }\n",
       "\n",
       "    .dataframe tbody tr th {\n",
       "        vertical-align: top;\n",
       "    }\n",
       "\n",
       "    .dataframe thead th {\n",
       "        text-align: right;\n",
       "    }\n",
       "</style>\n",
       "<table border=\"1\" class=\"dataframe\">\n",
       "  <thead>\n",
       "    <tr style=\"text-align: right;\">\n",
       "      <th></th>\n",
       "      <th>trm_id</th>\n",
       "      <th>transmission</th>\n",
       "    </tr>\n",
       "  </thead>\n",
       "  <tbody>\n",
       "    <tr>\n",
       "      <th>0</th>\n",
       "      <td>1</td>\n",
       "      <td>automatic</td>\n",
       "    </tr>\n",
       "    <tr>\n",
       "      <th>43</th>\n",
       "      <td>2</td>\n",
       "      <td>manual</td>\n",
       "    </tr>\n",
       "  </tbody>\n",
       "</table>\n",
       "</div>"
      ],
      "text/plain": [
       "    trm_id transmission\n",
       "0        1    automatic\n",
       "43       2       manual"
      ]
     },
     "execution_count": 27,
     "metadata": {},
     "output_type": "execute_result"
    }
   ],
   "source": [
    "transmissao"
   ]
  },
  {
   "cell_type": "code",
   "execution_count": 28,
   "id": "23c2cd1b-e62d-4516-babf-84b6275ed560",
   "metadata": {},
   "outputs": [],
   "source": [
    "transmissao.to_csv(\"../tabelas/transmissoes.csv\", index=False)"
   ]
  }
 ],
 "metadata": {
  "kernelspec": {
   "display_name": "Python 3 (ipykernel)",
   "language": "python",
   "name": "python3"
  },
  "language_info": {
   "codemirror_mode": {
    "name": "ipython",
    "version": 3
   },
   "file_extension": ".py",
   "mimetype": "text/x-python",
   "name": "python",
   "nbconvert_exporter": "python",
   "pygments_lexer": "ipython3",
   "version": "3.12.4"
  }
 },
 "nbformat": 4,
 "nbformat_minor": 5
}
