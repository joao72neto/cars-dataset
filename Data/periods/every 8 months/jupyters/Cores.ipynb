{
 "cells": [
  {
   "cell_type": "markdown",
   "id": "444704a2-1ceb-4dd0-a490-5c372d51fd48",
   "metadata": {},
   "source": [
    "## Criando a tabela dos vendedores"
   ]
  },
  {
   "cell_type": "code",
   "execution_count": 2,
   "id": "7dac1813-929e-4fc7-85ed-b3c07904deb4",
   "metadata": {},
   "outputs": [],
   "source": [
    "import pandas as pd"
   ]
  },
  {
   "cell_type": "code",
   "execution_count": 13,
   "id": "bfb674b4-2928-418f-9fb5-a4f29a012e7f",
   "metadata": {},
   "outputs": [],
   "source": [
    "cores = pd.read_csv(\"../car_prices_1p_2014.csv\", usecols=[\"color\", \"interior\"])"
   ]
  },
  {
   "cell_type": "code",
   "execution_count": 14,
   "id": "9d809b54-9b94-4eb1-98c5-f33f5a7017e9",
   "metadata": {},
   "outputs": [],
   "source": [
    "cores = pd.concat([cores[\"color\"], cores[\"interior\"]], axis=0, ignore_index=True).to_frame(\"cores\")"
   ]
  },
  {
   "cell_type": "code",
   "execution_count": 18,
   "id": "a19ad710-b39c-4cac-a681-c039e4dabe57",
   "metadata": {},
   "outputs": [],
   "source": [
    "cores = cores.drop_duplicates()"
   ]
  },
  {
   "cell_type": "code",
   "execution_count": 19,
   "id": "8c8ea8c7-f1fb-42e8-beed-5861708a83f1",
   "metadata": {},
   "outputs": [],
   "source": [
    "cores[\"cor_id\"] = range(1 , len(cores) + 1)"
   ]
  },
  {
   "cell_type": "code",
   "execution_count": 20,
   "id": "0d854ad1-79d3-4e65-a3a5-be8de0bd68bc",
   "metadata": {},
   "outputs": [],
   "source": [
    "cores = cores[[\"cor_id\", \"cores\"]]"
   ]
  },
  {
   "cell_type": "code",
   "execution_count": 21,
   "id": "770fa890-f983-4d32-bba5-0bd6e9be7a9f",
   "metadata": {},
   "outputs": [
    {
     "data": {
      "text/html": [
       "<div>\n",
       "<style scoped>\n",
       "    .dataframe tbody tr th:only-of-type {\n",
       "        vertical-align: middle;\n",
       "    }\n",
       "\n",
       "    .dataframe tbody tr th {\n",
       "        vertical-align: top;\n",
       "    }\n",
       "\n",
       "    .dataframe thead th {\n",
       "        text-align: right;\n",
       "    }\n",
       "</style>\n",
       "<table border=\"1\" class=\"dataframe\">\n",
       "  <thead>\n",
       "    <tr style=\"text-align: right;\">\n",
       "      <th></th>\n",
       "      <th>cor_id</th>\n",
       "      <th>cores</th>\n",
       "    </tr>\n",
       "  </thead>\n",
       "  <tbody>\n",
       "    <tr>\n",
       "      <th>0</th>\n",
       "      <td>1</td>\n",
       "      <td>white</td>\n",
       "    </tr>\n",
       "    <tr>\n",
       "      <th>1</th>\n",
       "      <td>2</td>\n",
       "      <td>black</td>\n",
       "    </tr>\n",
       "    <tr>\n",
       "      <th>2</th>\n",
       "      <td>3</td>\n",
       "      <td>gray</td>\n",
       "    </tr>\n",
       "    <tr>\n",
       "      <th>14</th>\n",
       "      <td>4</td>\n",
       "      <td>blue</td>\n",
       "    </tr>\n",
       "    <tr>\n",
       "      <th>18</th>\n",
       "      <td>5</td>\n",
       "      <td>purple</td>\n",
       "    </tr>\n",
       "    <tr>\n",
       "      <th>19</th>\n",
       "      <td>6</td>\n",
       "      <td>beige</td>\n",
       "    </tr>\n",
       "    <tr>\n",
       "      <th>23</th>\n",
       "      <td>7</td>\n",
       "      <td>red</td>\n",
       "    </tr>\n",
       "    <tr>\n",
       "      <th>26</th>\n",
       "      <td>8</td>\n",
       "      <td>silver</td>\n",
       "    </tr>\n",
       "    <tr>\n",
       "      <th>100</th>\n",
       "      <td>9</td>\n",
       "      <td>gold</td>\n",
       "    </tr>\n",
       "    <tr>\n",
       "      <th>115</th>\n",
       "      <td>10</td>\n",
       "      <td>burgundy</td>\n",
       "    </tr>\n",
       "    <tr>\n",
       "      <th>122</th>\n",
       "      <td>11</td>\n",
       "      <td>green</td>\n",
       "    </tr>\n",
       "    <tr>\n",
       "      <th>135</th>\n",
       "      <td>12</td>\n",
       "      <td>off-white</td>\n",
       "    </tr>\n",
       "    <tr>\n",
       "      <th>175</th>\n",
       "      <td>13</td>\n",
       "      <td>tan</td>\n",
       "    </tr>\n",
       "    <tr>\n",
       "      <th>209</th>\n",
       "      <td>14</td>\n",
       "      <td>brown</td>\n",
       "    </tr>\n",
       "  </tbody>\n",
       "</table>\n",
       "</div>"
      ],
      "text/plain": [
       "     cor_id      cores\n",
       "0         1      white\n",
       "1         2      black\n",
       "2         3       gray\n",
       "14        4       blue\n",
       "18        5     purple\n",
       "19        6      beige\n",
       "23        7        red\n",
       "26        8     silver\n",
       "100       9       gold\n",
       "115      10   burgundy\n",
       "122      11      green\n",
       "135      12  off-white\n",
       "175      13        tan\n",
       "209      14      brown"
      ]
     },
     "execution_count": 21,
     "metadata": {},
     "output_type": "execute_result"
    }
   ],
   "source": [
    "cores"
   ]
  },
  {
   "cell_type": "code",
   "execution_count": 22,
   "id": "23c2cd1b-e62d-4516-babf-84b6275ed560",
   "metadata": {},
   "outputs": [],
   "source": [
    "cores.to_csv(\"../tabelas/cores.csv\", index=False)"
   ]
  }
 ],
 "metadata": {
  "kernelspec": {
   "display_name": "Python 3 (ipykernel)",
   "language": "python",
   "name": "python3"
  },
  "language_info": {
   "codemirror_mode": {
    "name": "ipython",
    "version": 3
   },
   "file_extension": ".py",
   "mimetype": "text/x-python",
   "name": "python",
   "nbconvert_exporter": "python",
   "pygments_lexer": "ipython3",
   "version": "3.12.4"
  }
 },
 "nbformat": 4,
 "nbformat_minor": 5
}
