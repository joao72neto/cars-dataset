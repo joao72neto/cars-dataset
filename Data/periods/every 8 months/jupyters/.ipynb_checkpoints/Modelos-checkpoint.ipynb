{
 "cells": [
  {
   "cell_type": "markdown",
   "id": "444704a2-1ceb-4dd0-a490-5c372d51fd48",
   "metadata": {},
   "source": [
    "## Criando a tabela dos modelos dos carros"
   ]
  },
  {
   "cell_type": "code",
   "execution_count": 87,
   "id": "7dac1813-929e-4fc7-85ed-b3c07904deb4",
   "metadata": {},
   "outputs": [],
   "source": [
    "import pandas as pd"
   ]
  },
  {
   "cell_type": "code",
   "execution_count": 88,
   "id": "bfb674b4-2928-418f-9fb5-a4f29a012e7f",
   "metadata": {},
   "outputs": [],
   "source": [
    "modelos = pd.read_csv(\"../car_prices_1p_2014.csv\", usecols=[\"make\", \"model\", \"trim\", \"body\", \"transmission\"])"
   ]
  },
  {
   "cell_type": "code",
   "execution_count": 89,
   "id": "8336548d-da8f-49cc-80e0-fec5cd435a73",
   "metadata": {},
   "outputs": [],
   "source": [
    "transmissao = pd.read_csv(\"../tabelas/transmissoes.csv\")"
   ]
  },
  {
   "cell_type": "code",
   "execution_count": 90,
   "id": "532143bb-fa8e-4b82-aa98-9ceab0e75406",
   "metadata": {},
   "outputs": [],
   "source": [
    "marcas = pd.read_csv(\"../tabelas/marcas.csv\")"
   ]
  },
  {
   "cell_type": "code",
   "execution_count": 91,
   "id": "78654feb-4348-4152-97ae-cf5455126b5c",
   "metadata": {},
   "outputs": [],
   "source": [
    "modelos = modelos.drop_duplicates()"
   ]
  },
  {
   "cell_type": "code",
   "execution_count": 92,
   "id": "d352ef3c-eaa3-4ce7-b5ad-a8c6adf3b836",
   "metadata": {},
   "outputs": [
    {
     "data": {
      "text/plain": [
       "101"
      ]
     },
     "execution_count": 92,
     "metadata": {},
     "output_type": "execute_result"
    }
   ],
   "source": [
    "len(modelos)"
   ]
  },
  {
   "cell_type": "markdown",
   "id": "ca5c12bf-014e-4348-bd5e-3c02e1762422",
   "metadata": {},
   "source": [
    "### Associando a tabela de transmissões com os modelos"
   ]
  },
  {
   "cell_type": "code",
   "execution_count": 93,
   "id": "c266ecae-3d6e-4791-b0de-976b9b90b893",
   "metadata": {},
   "outputs": [],
   "source": [
    "#Mapeando transmissão\n",
    "trm_mapa = dict(zip(transmissao[\"transmission\"], transmissao[\"trm_id\"]))"
   ]
  },
  {
   "cell_type": "code",
   "execution_count": 94,
   "id": "22d625a5-b099-4548-beff-16598b412765",
   "metadata": {},
   "outputs": [],
   "source": [
    "modelos[\"mod_trm_id\"] = modelos[\"transmission\"].map(trm_mapa)"
   ]
  },
  {
   "cell_type": "code",
   "execution_count": 95,
   "id": "4cb60ae1-b7a3-4181-b2db-6cec39ad9a2e",
   "metadata": {},
   "outputs": [],
   "source": [
    "modelos = modelos.drop(\"transmission\", axis=1)"
   ]
  },
  {
   "cell_type": "markdown",
   "id": "dc1c7a51-7ea7-491c-82b1-11835bd5a846",
   "metadata": {},
   "source": [
    "### Associando a tabela de marcas com os modelos"
   ]
  },
  {
   "cell_type": "code",
   "execution_count": 96,
   "id": "afeee2ee-6467-4879-ac21-f4808827ef36",
   "metadata": {},
   "outputs": [],
   "source": [
    "#Mapeando marcas\n",
    "mrc_mapa = dict(zip(marcas[\"make\"], marcas[\"mrc_id\"]))"
   ]
  },
  {
   "cell_type": "code",
   "execution_count": 97,
   "id": "fc1308b4-5b1c-4d4a-9add-0aa3e4c16920",
   "metadata": {},
   "outputs": [],
   "source": [
    "modelos[\"mod_mrc_id\"] = modelos[\"make\"].map(mrc_mapa)"
   ]
  },
  {
   "cell_type": "code",
   "execution_count": 98,
   "id": "8c368bdb-eecd-491e-b365-45b08d6daf17",
   "metadata": {},
   "outputs": [],
   "source": [
    "modelos = modelos.drop(\"make\", axis=1)"
   ]
  },
  {
   "cell_type": "code",
   "execution_count": 99,
   "id": "f3ea036a-1301-4e7f-a18c-006453e65c40",
   "metadata": {},
   "outputs": [],
   "source": [
    "modelos = modelos[[\"mod_mrc_id\", \"model\", \"trim\", \"body\", \"mod_trm_id\"]]"
   ]
  },
  {
   "cell_type": "markdown",
   "id": "abfba3d3-5b71-4565-b9fa-3533948c5df1",
   "metadata": {},
   "source": [
    "#### Adicionando um ID para o CSV dos modelos"
   ]
  },
  {
   "cell_type": "code",
   "execution_count": 104,
   "id": "4a6891e7-2b1c-453e-8bad-7e94b671971c",
   "metadata": {},
   "outputs": [],
   "source": [
    "modelos[\"mod_id\"] = range(1, len(modelos) + 1)"
   ]
  },
  {
   "cell_type": "code",
   "execution_count": 107,
   "id": "f5976af1-ad92-4d10-90e2-1730da9af138",
   "metadata": {},
   "outputs": [],
   "source": [
    "modelos = modelos[[\"mod_id\", \"mod_mrc_id\", \"model\", \"trim\", \"body\", \"mod_trm_id\"]]"
   ]
  },
  {
   "cell_type": "code",
   "execution_count": 108,
   "id": "793ebd1f-6da1-4388-9d6d-a0366abf3b6b",
   "metadata": {},
   "outputs": [
    {
     "data": {
      "text/html": [
       "<div>\n",
       "<style scoped>\n",
       "    .dataframe tbody tr th:only-of-type {\n",
       "        vertical-align: middle;\n",
       "    }\n",
       "\n",
       "    .dataframe tbody tr th {\n",
       "        vertical-align: top;\n",
       "    }\n",
       "\n",
       "    .dataframe thead th {\n",
       "        text-align: right;\n",
       "    }\n",
       "</style>\n",
       "<table border=\"1\" class=\"dataframe\">\n",
       "  <thead>\n",
       "    <tr style=\"text-align: right;\">\n",
       "      <th></th>\n",
       "      <th>mod_id</th>\n",
       "      <th>mod_mrc_id</th>\n",
       "      <th>model</th>\n",
       "      <th>trim</th>\n",
       "      <th>body</th>\n",
       "      <th>mod_trm_id</th>\n",
       "    </tr>\n",
       "  </thead>\n",
       "  <tbody>\n",
       "    <tr>\n",
       "      <th>0</th>\n",
       "      <td>1</td>\n",
       "      <td>1</td>\n",
       "      <td>Altima</td>\n",
       "      <td>2.5 S</td>\n",
       "      <td>Sedan</td>\n",
       "      <td>1</td>\n",
       "    </tr>\n",
       "    <tr>\n",
       "      <th>1</th>\n",
       "      <td>2</td>\n",
       "      <td>2</td>\n",
       "      <td>Charger</td>\n",
       "      <td>RT</td>\n",
       "      <td>Sedan</td>\n",
       "      <td>1</td>\n",
       "    </tr>\n",
       "    <tr>\n",
       "      <th>2</th>\n",
       "      <td>3</td>\n",
       "      <td>3</td>\n",
       "      <td>Escape</td>\n",
       "      <td>SE</td>\n",
       "      <td>SUV</td>\n",
       "      <td>1</td>\n",
       "    </tr>\n",
       "    <tr>\n",
       "      <th>4</th>\n",
       "      <td>4</td>\n",
       "      <td>3</td>\n",
       "      <td>Fusion</td>\n",
       "      <td>SE</td>\n",
       "      <td>Sedan</td>\n",
       "      <td>1</td>\n",
       "    </tr>\n",
       "    <tr>\n",
       "      <th>5</th>\n",
       "      <td>5</td>\n",
       "      <td>3</td>\n",
       "      <td>Expedition</td>\n",
       "      <td>EL King Ranch</td>\n",
       "      <td>SUV</td>\n",
       "      <td>1</td>\n",
       "    </tr>\n",
       "    <tr>\n",
       "      <th>...</th>\n",
       "      <td>...</td>\n",
       "      <td>...</td>\n",
       "      <td>...</td>\n",
       "      <td>...</td>\n",
       "      <td>...</td>\n",
       "      <td>...</td>\n",
       "    </tr>\n",
       "    <tr>\n",
       "      <th>154</th>\n",
       "      <td>97</td>\n",
       "      <td>27</td>\n",
       "      <td>Grand Am</td>\n",
       "      <td>SE1</td>\n",
       "      <td>Coupe</td>\n",
       "      <td>1</td>\n",
       "    </tr>\n",
       "    <tr>\n",
       "      <th>155</th>\n",
       "      <td>98</td>\n",
       "      <td>8</td>\n",
       "      <td>Camry</td>\n",
       "      <td>LE</td>\n",
       "      <td>Sedan</td>\n",
       "      <td>1</td>\n",
       "    </tr>\n",
       "    <tr>\n",
       "      <th>156</th>\n",
       "      <td>99</td>\n",
       "      <td>8</td>\n",
       "      <td>Corolla</td>\n",
       "      <td>LE</td>\n",
       "      <td>Sedan</td>\n",
       "      <td>1</td>\n",
       "    </tr>\n",
       "    <tr>\n",
       "      <th>159</th>\n",
       "      <td>100</td>\n",
       "      <td>26</td>\n",
       "      <td>3 Series</td>\n",
       "      <td>335i</td>\n",
       "      <td>Sedan</td>\n",
       "      <td>1</td>\n",
       "    </tr>\n",
       "    <tr>\n",
       "      <th>160</th>\n",
       "      <td>101</td>\n",
       "      <td>28</td>\n",
       "      <td>Acadia</td>\n",
       "      <td>SLT-1</td>\n",
       "      <td>SUV</td>\n",
       "      <td>1</td>\n",
       "    </tr>\n",
       "  </tbody>\n",
       "</table>\n",
       "<p>101 rows × 6 columns</p>\n",
       "</div>"
      ],
      "text/plain": [
       "     mod_id  mod_mrc_id       model           trim   body  mod_trm_id\n",
       "0         1           1      Altima          2.5 S  Sedan           1\n",
       "1         2           2     Charger             RT  Sedan           1\n",
       "2         3           3      Escape             SE    SUV           1\n",
       "4         4           3      Fusion             SE  Sedan           1\n",
       "5         5           3  Expedition  EL King Ranch    SUV           1\n",
       "..      ...         ...         ...            ...    ...         ...\n",
       "154      97          27    Grand Am            SE1  Coupe           1\n",
       "155      98           8       Camry             LE  Sedan           1\n",
       "156      99           8     Corolla             LE  Sedan           1\n",
       "159     100          26    3 Series           335i  Sedan           1\n",
       "160     101          28      Acadia          SLT-1    SUV           1\n",
       "\n",
       "[101 rows x 6 columns]"
      ]
     },
     "execution_count": 108,
     "metadata": {},
     "output_type": "execute_result"
    }
   ],
   "source": [
    "modelos"
   ]
  },
  {
   "cell_type": "markdown",
   "id": "28a647c4-c8a9-4e93-bb19-6fc520e2a318",
   "metadata": {},
   "source": [
    "### Escrevendo os dados no CSV"
   ]
  },
  {
   "cell_type": "code",
   "execution_count": 110,
   "id": "8c8ea8c7-f1fb-42e8-beed-5861708a83f1",
   "metadata": {},
   "outputs": [],
   "source": [
    "modelos.to_csv(\"../tabelas/modelos.csv\", index=False)"
   ]
  }
 ],
 "metadata": {
  "kernelspec": {
   "display_name": "Python 3 (ipykernel)",
   "language": "python",
   "name": "python3"
  },
  "language_info": {
   "codemirror_mode": {
    "name": "ipython",
    "version": 3
   },
   "file_extension": ".py",
   "mimetype": "text/x-python",
   "name": "python",
   "nbconvert_exporter": "python",
   "pygments_lexer": "ipython3",
   "version": "3.12.4"
  }
 },
 "nbformat": 4,
 "nbformat_minor": 5
}
