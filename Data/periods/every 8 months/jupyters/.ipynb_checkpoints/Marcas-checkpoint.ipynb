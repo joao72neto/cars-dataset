{
 "cells": [
  {
   "cell_type": "markdown",
   "id": "444704a2-1ceb-4dd0-a490-5c372d51fd48",
   "metadata": {},
   "source": [
    "## Criando a tabela dos vendedores"
   ]
  },
  {
   "cell_type": "code",
   "execution_count": 2,
   "id": "7dac1813-929e-4fc7-85ed-b3c07904deb4",
   "metadata": {},
   "outputs": [],
   "source": [
    "import pandas as pd"
   ]
  },
  {
   "cell_type": "code",
   "execution_count": 4,
   "id": "bfb674b4-2928-418f-9fb5-a4f29a012e7f",
   "metadata": {},
   "outputs": [],
   "source": [
    "marcas = pd.read_csv(\"../car_prices_1p_2014.csv\", usecols=[\"make\"])"
   ]
  },
  {
   "cell_type": "code",
   "execution_count": 7,
   "id": "eb1c47e8-c4c8-4e9b-bc67-e7d6591311f7",
   "metadata": {},
   "outputs": [],
   "source": [
    "marcas = marcas.drop_duplicates()"
   ]
  },
  {
   "cell_type": "code",
   "execution_count": 8,
   "id": "8c8ea8c7-f1fb-42e8-beed-5861708a83f1",
   "metadata": {},
   "outputs": [],
   "source": [
    "marcas[\"mrc_id\"] = range(1 , len(marcas) + 1)"
   ]
  },
  {
   "cell_type": "code",
   "execution_count": 9,
   "id": "0d854ad1-79d3-4e65-a3a5-be8de0bd68bc",
   "metadata": {},
   "outputs": [],
   "source": [
    "marcas = marcas[[\"mrc_id\", \"make\"]]"
   ]
  },
  {
   "cell_type": "code",
   "execution_count": 11,
   "id": "23c2cd1b-e62d-4516-babf-84b6275ed560",
   "metadata": {},
   "outputs": [],
   "source": [
    "marcas.to_csv(\"../tabelas/marcas.csv\", index=False)"
   ]
  }
 ],
 "metadata": {
  "kernelspec": {
   "display_name": "Python 3 (ipykernel)",
   "language": "python",
   "name": "python3"
  },
  "language_info": {
   "codemirror_mode": {
    "name": "ipython",
    "version": 3
   },
   "file_extension": ".py",
   "mimetype": "text/x-python",
   "name": "python",
   "nbconvert_exporter": "python",
   "pygments_lexer": "ipython3",
   "version": "3.12.4"
  }
 },
 "nbformat": 4,
 "nbformat_minor": 5
}
